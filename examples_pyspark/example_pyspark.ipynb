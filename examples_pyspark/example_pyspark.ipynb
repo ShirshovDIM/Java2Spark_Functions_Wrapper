{
 "cells": [
  {
   "cell_type": "code",
   "execution_count": 1,
   "id": "a3b46df6",
   "metadata": {},
   "outputs": [
    {
     "name": "stdout",
     "output_type": "stream",
     "text": [
      "-RECORD 0----------------\n",
      " m_func | replace_inside \n",
      " res    | 12*2x          \n",
      "\n",
      "-RECORD 0----------------------\n",
      " m_func | replace_three_ast... \n",
      " res    | ***                  \n",
      "\n",
      "-RECORD 0-------------------\n",
      " m_func | first_letter_word \n",
      " res    | J. D.             \n",
      "\n",
      "-RECORD 0----------------\n",
      " m_func | no_masking     \n",
      " res    | Sensitive Data \n",
      "\n",
      "-RECORD 0-------------\n",
      " m_func | replace_all \n",
      " res    | *********   \n",
      "\n",
      "-RECORD 0-----------------\n",
      " m_func | email           \n",
      " res    | jo****@****.com \n",
      "\n",
      "-RECORD 0----------------------\n",
      " m_func | first_letter_firs... \n",
      " res    | J.-D. Smith          \n",
      "\n",
      "-RECORD 0---------------\n",
      " m_func | crop_value_to \n",
      " res    | Sensitive     \n",
      "\n",
      "-RECORD 0----------------------\n",
      " m_func | replace_inside_dy... \n",
      " res    | 12****78             \n",
      "\n",
      "-RECORD 0---------------------\n",
      " m_func | replace_day_in_date \n",
      " res    | 2000-01-01          \n",
      "\n"
     ]
    }
   ],
   "source": [
    "from pyspark.sql import SparkSession\n",
    "\n",
    "spark = SparkSession.builder \\\n",
    "    .appName(\"example\") \\\n",
    "    .master(\"local[*]\") \\\n",
    "    .config(\"spark.jars\", \"C:\\\\Users\\\\dbezu\\\\Desktop\\\\masking-functions\\\\target\\\\masking-functions-1.0-SNAPSHOT.jar\") \\\n",
    "    .getOrCreate()\n",
    "\n",
    "spark._jvm.com.alfa.MaskingFunctionsWrapper.registerAllUDFs(spark._jsparkSession)\n",
    "\n",
    "spark.sql(\"SELECT 'replace_inside' AS m_func, replace_inside('12w2x', 'dd*dd') as res\").show(1, vertical=True)\n",
    "spark.sql(\"SELECT 'replace_three_asterisks' AS m_func, replace_three_asterisks('somevalue', '***') as res\").show(1, vertical=True)\n",
    "spark.sql(\"SELECT 'first_letter_word' AS m_func, first_letter_word('John Doe', 'd. d.') as res\").show(1, vertical=True)\n",
    "spark.sql(\"SELECT 'no_masking' AS m_func, no_masking('Sensitive Data', '') as res\").show(1, vertical=True)\n",
    "spark.sql(\"SELECT 'replace_all' AS m_func, replace_all('Secret123', '*') as res\").show(1, vertical=True)\n",
    "spark.sql(\"SELECT 'email' AS m_func, email('john.doe@example.com', '') as res\").show(1, vertical=True)\n",
    "spark.sql(\"SELECT 'first_letter_first_word' AS m_func, first_letter_first_word('John-Doe Smith', '') as res\").show(1, vertical=True)\n",
    "spark.sql(\"SELECT 'crop_value_to' AS m_func, crop_value_to('Sensitive|Extra', '|') as res\").show(1, vertical=True)\n",
    "spark.sql(\"SELECT 'replace_inside_dynamic' AS m_func, replace_inside_dynamic('12345678', 'dd**dd') as res\").show(1, vertical=True)\n",
    "spark.sql(\"SELECT 'replace_day_in_date' AS m_func, replace_day_in_date(to_date('2023-10-05'), '01.01.2000') as res\").show(1, vertical=True)\n"
   ]
  },
  {
   "cell_type": "code",
   "execution_count": null,
   "id": "96a033cd",
   "metadata": {},
   "outputs": [],
   "source": []
  }
 ],
 "metadata": {
  "kernelspec": {
   "display_name": "Python 3",
   "language": "python",
   "name": "python3"
  },
  "language_info": {
   "codemirror_mode": {
    "name": "ipython",
    "version": 3
   },
   "file_extension": ".py",
   "mimetype": "text/x-python",
   "name": "python",
   "nbconvert_exporter": "python",
   "pygments_lexer": "ipython3",
   "version": "3.13.3"
  }
 },
 "nbformat": 4,
 "nbformat_minor": 5
}
